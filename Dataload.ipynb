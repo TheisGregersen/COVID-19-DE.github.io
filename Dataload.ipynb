{
 "cells": [
  {
   "cell_type": "markdown",
   "metadata": {},
   "source": [
    "# Heatmap"
   ]
  },
  {
   "cell_type": "code",
   "execution_count": null,
   "metadata": {},
   "outputs": [],
   "source": [
    "import pandas as pd\n",
    "import numpy as np\n",
    "from sklearn.tree import DecisionTreeClassifier # Import Decision Tree Classifier\n",
    "from sklearn.model_selection import train_test_split # Import train_test_split function\n",
    "from sklearn import metrics #Import scikit-learn metrics module for accuracy calculation\n",
    "from sklearn.ensemble import RandomForestClassifier\n",
    "from sklearn.datasets import make_classification\n",
    "from sklearn.metrics import confusion_matrix,classification_report\n",
    "from sklearn.metrics import confusion_matrix, classification_report\n",
    "from sklearn.model_selection import KFold\n",
    "import datetime as dt\n",
    "import warnings\n",
    "from random import sample \n",
    "warnings.filterwarnings('ignore')\n",
    "from folium.plugins import MarkerCluster\n",
    "from folium.plugins import FastMarkerCluster\n",
    "\n",
    "import random\n",
    "import seaborn as sns\n",
    "import matplotlib.pyplot as plt\n",
    "%matplotlib inline\n",
    "import folium\n",
    "from folium.plugins import HeatMap\n",
    "from folium import plugins\n"
   ]
  },
  {
   "cell_type": "code",
   "execution_count": null,
   "metadata": {},
   "outputs": [],
   "source": [
    "df_covid = pd.read_csv(\"covid_de.csv\")\n",
    "df_demo = pd.read_csv(\"demographics_de.csv\")\n",
    "df_des = pd.read_excel(\"location.xlsx\")\n",
    "\n",
    "#drop NaN and change to datetime\n",
    "df_covid = df_covid.dropna()\n",
    "df_covid['date'] = pd.to_datetime(df_covid.date)\n",
    "\n",
    "\n",
    "#Changing gender in demografic to have same values as covid data set. \n",
    "df_demo['gender'] = df_demo['gender'].map({'female': 'F','male':'M'})\n",
    "\n",
    "\n",
    "#Merging the two dataset on state, age_group and gender. \n",
    "merged = pd.merge(df_covid,df_demo,how='inner', on=[\"state\",\"age_group\",\"gender\"])\n",
    "#And merging latitude and longtitude on the full dataset\n",
    "df = pd.merge(merged,df_des,how='inner',on=['county'])"
   ]
  },
  {
   "cell_type": "code",
   "execution_count": null,
   "metadata": {},
   "outputs": [],
   "source": [
    "#We start by plotting the map of Germany. \n",
    "map_DE=folium.Map([51, 9.8], zoom_start=6,tiles='Stamen Toner')\n",
    "folium.Marker([51, 9.8], popup='Germany').add_to(map_DE)\n",
    "map_DE"
   ]
  },
  {
   "cell_type": "code",
   "execution_count": null,
   "metadata": {},
   "outputs": [],
   "source": [
    "#Now we plot the data as a cirkelmarker, \n",
    "for lat,lon in zip(df['Lat'],df['Lon']):\n",
    "     folium.CircleMarker([lat,lon],\n",
    "                            fill_color='red',\n",
    "                            fill=True,\n",
    "                            radius = 5,\n",
    "                            max_zoom = 10,\n",
    "                            fill_opacity=0.7,\n",
    "                           ).add_to(map_DE)\n",
    "map_DE"
   ]
  },
  {
   "cell_type": "code",
   "execution_count": null,
   "metadata": {},
   "outputs": [],
   "source": [
    "# Adding latitude and longitude to states\n",
    "state_loc = pd.DataFrame(np.array([\n",
    "['Baden-Wurttemberg',48.99999229,8.999993448],\n",
    "['Bayern',49.26660748,10.96660681],\n",
    "['Berlin',52.52181866,13.40154862],\n",
    "['Brandenburg',51.7704175,13.72996741],\n",
    "['Bremen',53.05043805,8.779982461],\n",
    "['Hamburg',53.55002464,9.999999144],\n",
    "['Hessen',50.30000694,9.200029662],\n",
    "['Mecklenburg Vorpommern',53.63330408,12.41669861],\n",
    "['Niedersachsen',52.1299986,9.720004434],\n",
    "['Nordrhein Westfalen',51.52998822,8.030011351],\n",
    "['Rheinland Pfalz',49.58247246,7.703219156],\n",
    "['Saarland',49.25039044,6.970003213],\n",
    "['Sachsen',50.82998395,12.91997595],\n",
    "['Sachsen Anhalt',52.13042137,11.62000362],\n",
    "['Schleswig Holstein',54.28374778,9.433315388],\n",
    "['Thuringen',50.97005292,11.02996212]]),columns=['State','Lat','Long'])\n",
    "state_loc = state_loc.sort_values('State')"
   ]
  },
  {
   "cell_type": "code",
   "execution_count": null,
   "metadata": {},
   "outputs": [],
   "source": [
    "state_loc['Total Cases'] = df.groupby('state')['cases'].sum().values\n",
    "state_loc['Total Deaths'] = df.groupby('state')['deaths'].sum().values\n",
    "state_loc['Total Recovered'] = df.groupby('state')['recovered'].sum().values\n",
    "state_loc\n",
    "map_DE=folium.Map([51, 9.8], zoom_start=6,tiles='Stamen Toner')\n",
    "for i in range(state_loc.shape[0]):\n",
    "    icon = folium.Icon(color=\"red\")\n",
    "    folium.Marker([state_loc['Lat'][i],state_loc['Long'][i]],\n",
    "                  tooltip='State: {} <br>' 'Total Cases: {} <br>' 'Total Deaths: {}<br>' 'Total Recovered: {}'.format(state_loc['State'][i],state_loc['Total Cases'][i],state_loc['Total Deaths'][i],state_loc['Total Recovered'][i]),icon=icon).add_to(map_DE)\n",
    "map_DE"
   ]
  },
  {
   "cell_type": "code",
   "execution_count": null,
   "metadata": {},
   "outputs": [],
   "source": [
    "# Add total cases to df_des\n",
    "df_des['Total Cases']= df.groupby('county')['cases'].sum().values\n",
    "\n",
    "# Create new dataframe \n",
    "df_county = df_des[['county','Lat','Lon']]\n",
    "\n",
    "# Add rows equal to total cases pr. county\n",
    "for i in range(df_des.shape[0]):\n",
    "    df_county=df_county.append([df_county[i:i+1]]*(df_des['Total Cases'][i]-1))"
   ]
  },
  {
   "cell_type": "code",
   "execution_count": null,
   "metadata": {},
   "outputs": [],
   "source": [
    "# The two plots together \n",
    "\n",
    "\n",
    "#A new map is defined: \n",
    "map_DE_heat=folium.Map([51.2, 9.8], zoom_start=6,tiles='Stamen Toner')\n",
    "\n",
    "# Ensureing that the data is float\n",
    "df_county['Lon'] = df_county['Lon'].astype(float)\n",
    "df_county['Lat'] = df_county['Lat'].astype(float)\n",
    "\n",
    "# Filter the DataFrame for columns, so only latitude and longtitude is remaining \n",
    "heat_df = df_county[['Lat', 'Lon']]\n",
    "\n",
    "# List comprehension to make out list of lists\n",
    "heat_data = [[row['Lat'],row['Lon']] for index, row in heat_df.iterrows()]\n",
    "\n",
    "# Plot it on the map. \n",
    "#The parameter radius is set to 20 meters and the max_zoom level to 20 for the tile layer that is created.\n",
    "HeatMap(data=heat_data,radius=20, max_zoom=20).add_to(map_DE_heat)\n",
    "\n",
    "\n",
    "state_loc['Total Cases'] = df.groupby('state')['cases'].sum().values\n",
    "state_loc['Total Deaths'] = df.groupby('state')['deaths'].sum().values\n",
    "state_loc['Total Recovered'] = df.groupby('state')['recovered'].sum().values\n",
    "\n",
    "for i in range(state_loc.shape[0]):\n",
    "    icon = folium.Icon(color=\"red\")\n",
    "    folium.Marker([state_loc['Lat'][i],state_loc['Long'][i]],\n",
    "                  tooltip='State: {} <br>' 'Total Cases: {} <br>' 'Total Deaths: {}<br>' 'Total Recovered: {}'.format(state_loc['State'][i],state_loc['Total Cases'][i],state_loc['Total Deaths'][i],state_loc['Total Recovered'][i]),icon=icon).add_to(map_DE_heat)\n",
    "\n",
    "\n",
    "\n",
    "\n",
    "# Display the map\n",
    "map_DE_heat\n",
    "\n",
    "\n"
   ]
  },
  {
   "cell_type": "code",
   "execution_count": null,
   "metadata": {},
   "outputs": [],
   "source": [
    "df_copy = df"
   ]
  },
  {
   "cell_type": "code",
   "execution_count": null,
   "metadata": {},
   "outputs": [],
   "source": [
    "df1 = pd.DataFrame(columns=['state','county','age_group','gender','date','cases','deaths','population','Lat','Lon'])"
   ]
  },
  {
   "cell_type": "code",
   "execution_count": null,
   "metadata": {},
   "outputs": [],
   "source": [
    "\n",
    "#df_copy = df[(df[['cases']] != 0).all(axis=1)]\n",
    "df_copy = df[~(df[['cases']] == 0).any(axis=1)]\n",
    "#df_copy.drop(df_copy[df_copy['cases'] < 1].index, inplace = True) \n",
    "#df_copy['cases'] = df_copy['cases'].astype(int)\n",
    "\n",
    "for i in range(df_copy.shape[0]):\n",
    "    print(i)\n",
    "    df1=df1.append([df_copy[i:i+1]]*df_copy['cases'].iloc[i])\n",
    "\n"
   ]
  },
  {
   "cell_type": "code",
   "execution_count": null,
   "metadata": {},
   "outputs": [],
   "source": [
    "df1['date'] = pd.to_datetime(df.date)"
   ]
  },
  {
   "cell_type": "code",
   "execution_count": null,
   "metadata": {},
   "outputs": [],
   "source": [
    "#Create a new map of GE, so that the video is based on an empty map\n",
    "map_time = folium.Map([51.2, 9.8], zoom_start=5.8,tiles='Stamen Toner')\n",
    "\n",
    "\n",
    "#assaults15quart = assaults[(assaults['DateTime'] > \"2015-01-01\") & (assaults['DateTime'] < \"2015-03-31\")]\n",
    "df1 = df1[(df1['date'] > '2020-01-20')]\n",
    "# Ensure you're handing it floats\n",
    "df1['Lat'] = df1['Lat'].astype(float)\n",
    "df1['Lon'] = df1['Lon'].astype(float)\n",
    "\n",
    "# Filter the DF for columns \n",
    "\n",
    "heat_df1 = df1[['Lat', 'Lon']]\n",
    "\n",
    "# Create weight column, using Hour, \n",
    "heat_df1['Weight'] = df1.date.dt.dayofyear.astype(float)\n",
    "heat_df1['Weight'] = heat_df1['Weight'].astype(float)\n",
    "heat_df1 = heat_df1.dropna(axis=0, subset=['Lat','Lon', 'Weight']) #And drop Na's \n",
    "\n",
    "# List comprehension to make out list of lists. range is 24 due to 24 hours. \n",
    "heat_data = [[[row['Lat'],row['Lon']] for index, row in heat_df1[heat_df1['Weight'] == i].iterrows()] for i in range(heat_df1['Weight'].astype(int).min(),heat_df1['Weight'].astype(int).max())]\n",
    "\n",
    "\n",
    "# Plot it on the map\n",
    "hm = plugins.HeatMapWithTime(heat_data,auto_play=True,max_opacity=0.8)\n",
    "hm.add_to(map_time)\n",
    "# Display the map\n",
    "map_time"
   ]
  },
  {
   "cell_type": "code",
   "execution_count": null,
   "metadata": {},
   "outputs": [],
   "source": []
  },
  {
   "cell_type": "code",
   "execution_count": null,
   "metadata": {},
   "outputs": [],
   "source": []
  },
  {
   "cell_type": "code",
   "execution_count": null,
   "metadata": {},
   "outputs": [],
   "source": []
  },
  {
   "cell_type": "code",
   "execution_count": null,
   "metadata": {},
   "outputs": [],
   "source": []
  },
  {
   "cell_type": "code",
   "execution_count": null,
   "metadata": {},
   "outputs": [],
   "source": []
  },
  {
   "cell_type": "code",
   "execution_count": null,
   "metadata": {},
   "outputs": [],
   "source": []
  },
  {
   "cell_type": "code",
   "execution_count": null,
   "metadata": {},
   "outputs": [],
   "source": []
  },
  {
   "cell_type": "code",
   "execution_count": null,
   "metadata": {},
   "outputs": [],
   "source": []
  },
  {
   "cell_type": "code",
   "execution_count": null,
   "metadata": {},
   "outputs": [],
   "source": [
    "df2 = df"
   ]
  },
  {
   "cell_type": "code",
   "execution_count": null,
   "metadata": {},
   "outputs": [],
   "source": [
    "df2 = df2.drop_duplicates(subset='county', keep=\"first\")"
   ]
  },
  {
   "cell_type": "code",
   "execution_count": null,
   "metadata": {},
   "outputs": [],
   "source": [
    "#creating a map that's centered to our sample\n",
    "some_map = folium.Map([51.2, 9.8], zoom_start=5.8,tiles='Stamen Toner')\n",
    "\n",
    "mc = MarkerCluster()\n",
    "\n",
    "df2['Total Cases'] = df.groupby('county')['cases'].sum().values\n",
    "df2['Total Deaths'] = df.groupby('county')['deaths'].sum().values\n",
    "\n",
    "#creating a Marker for each point in df_sample.  Each point will get a popup with their zip\n",
    "for row in df2.itertuples():\n",
    "    mc.add_child(folium.Marker(location=[row.Lat, row.Lon],\n",
    "                    tooltip=row.county))\n",
    "\n",
    "#state_loc['Total Cases'] = df.groupby('state')['cases'].sum().values\n",
    "#state_loc['Total Deaths'] = df.groupby('state')['deaths'].sum().values\n",
    "\n",
    "#for i in range(state_loc.shape[0]):\n",
    "#    icon = folium.Icon(color=\"red\")\n",
    "#    folium.Marker([df2['Long'][i],state_loc['Lat'][i]],\n",
    "#                  tooltip='State: {} <br>' 'Total Cases: {} <br>' 'Total Deaths: {}'.format(state_loc['County'][i],state_loc['Total Cases'][i],state_loc['Total Deaths'][i]),icon=icon).add_to(map_DE_heat)\n",
    "\n",
    "\n",
    "\n",
    "    \n",
    "some_map.add_child(mc)\n",
    "some_map"
   ]
  },
  {
   "cell_type": "code",
   "execution_count": null,
   "metadata": {},
   "outputs": [],
   "source": []
  },
  {
   "cell_type": "code",
   "execution_count": null,
   "metadata": {},
   "outputs": [],
   "source": []
  },
  {
   "cell_type": "code",
   "execution_count": null,
   "metadata": {},
   "outputs": [],
   "source": []
  },
  {
   "cell_type": "code",
   "execution_count": null,
   "metadata": {},
   "outputs": [],
   "source": []
  },
  {
   "cell_type": "code",
   "execution_count": null,
   "metadata": {},
   "outputs": [],
   "source": []
  },
  {
   "cell_type": "code",
   "execution_count": null,
   "metadata": {},
   "outputs": [],
   "source": []
  },
  {
   "cell_type": "code",
   "execution_count": null,
   "metadata": {},
   "outputs": [],
   "source": []
  },
  {
   "cell_type": "code",
   "execution_count": null,
   "metadata": {},
   "outputs": [],
   "source": []
  },
  {
   "cell_type": "code",
   "execution_count": null,
   "metadata": {},
   "outputs": [],
   "source": []
  },
  {
   "cell_type": "code",
   "execution_count": null,
   "metadata": {},
   "outputs": [],
   "source": []
  },
  {
   "cell_type": "code",
   "execution_count": null,
   "metadata": {},
   "outputs": [],
   "source": [
    "#from future import print_function\n",
    "from ipywidgets import interact, interactive, fixed, interact_manual\n",
    "import ipywidgets as widgets\n",
    "import cufflinks as cf\n",
    "import plotly.offline"
   ]
  },
  {
   "cell_type": "code",
   "execution_count": null,
   "metadata": {},
   "outputs": [],
   "source": [
    "#pip install cufflinks"
   ]
  },
  {
   "cell_type": "code",
   "execution_count": null,
   "metadata": {},
   "outputs": [],
   "source": [
    "#import pandas as pd\n",
    "#datafile = './data/covid_de.csv'\n",
    "#Read csv file using pandas\n",
    "#df = pd.read_csv(datafile)\n",
    "#df = df.dropna()\n",
    "#df['date'] = pd.to_datetime(df.date)\n",
    "#df.date = pd.to_datetime(df[\"date\"], format=\"%Y-%m-%dT%H:%M:%S.%fZ\")\n",
    "#df = df.sort_values(by='date')"
   ]
  },
  {
   "cell_type": "code",
   "execution_count": null,
   "metadata": {},
   "outputs": [],
   "source": [
    "\n",
    "#cf.go_offline()\n",
    "#cf.set_config_file(offline=False, world_readable=True)\n",
    "\n",
    "\n",
    "#def niceplot(State,Value):\n",
    "    \n",
    "#    if Value == 'Total':\n",
    "#        df1 = df[df.state == State]\n",
    "#        df1 = df1.sort_values(by='date')\n",
    "#        df1 = df1[['date','cases','deaths','recovered']]\n",
    "#        df1['Total Cases'] = df1['cases'].cumsum()\n",
    "#        df1['Total Deaths'] = df1['deaths'].cumsum()\n",
    "#        df1['Total Recovered'] = df1['recovered'].cumsum()\n",
    "#        df1 = df1.drop(['cases','deaths','recovered'],axis=1)\n",
    "#        df1 = df1.set_index('date')\n",
    "#        df1.iplot(xTitle=\"Date\",\n",
    "#                    yTitle=\"Occurrences\", title=\"Corona Development in {}\".format(State))\n",
    "#    if Value == 'By day':\n",
    "#        df1 = df[df.state == State]\n",
    "#        df1 = df1.sort_values(by='date')\n",
    "#        df1 = df1[['date','cases','deaths','recovered']]\n",
    "#        df1 = df1.set_index('date')\n",
    "#        df1.columns = ['Cases','Deaths','Recovered']\n",
    "#        df1.iplot(xTitle=\"Date\",\n",
    "#                    yTitle=\"Occurrences\", title=\"Corona Development in {}\".format(State), kind='bar')\n",
    "\n",
    "\n",
    "#interact(niceplot, State=df.state.unique(),Value = ['Total','By day']);"
   ]
  },
  {
   "cell_type": "code",
   "execution_count": null,
   "metadata": {},
   "outputs": [],
   "source": []
  },
  {
   "cell_type": "code",
   "execution_count": null,
   "metadata": {},
   "outputs": [],
   "source": []
  },
  {
   "cell_type": "code",
   "execution_count": null,
   "metadata": {},
   "outputs": [],
   "source": []
  },
  {
   "cell_type": "code",
   "execution_count": null,
   "metadata": {},
   "outputs": [],
   "source": []
  },
  {
   "cell_type": "code",
   "execution_count": null,
   "metadata": {},
   "outputs": [],
   "source": []
  },
  {
   "cell_type": "code",
   "execution_count": null,
   "metadata": {},
   "outputs": [],
   "source": []
  },
  {
   "cell_type": "code",
   "execution_count": null,
   "metadata": {},
   "outputs": [],
   "source": []
  },
  {
   "cell_type": "code",
   "execution_count": null,
   "metadata": {},
   "outputs": [],
   "source": []
  },
  {
   "cell_type": "code",
   "execution_count": null,
   "metadata": {},
   "outputs": [],
   "source": []
  },
  {
   "cell_type": "code",
   "execution_count": null,
   "metadata": {},
   "outputs": [],
   "source": [
    "#import pandas as pd\n",
    "#import folium\n",
    "#from folium.plugins import MarkerCluster\n",
    "#from folium.plugins import FastMarkerCluster"
   ]
  },
  {
   "cell_type": "code",
   "execution_count": null,
   "metadata": {},
   "outputs": [],
   "source": [
    "#file_url = 'http://www2.census.gov/geo/docs/maps-data/data/gazetteer/2016_Gazetteer/2016_Gaz_zcta_national.zip'\n",
    "\n",
    "#Pandas usually infers zips are numerics, but we lose our leading zeroes so let's go with the object dtype\n",
    "#df = pd.read_csv(file_url, sep='\\t', dtype={'GEOID' : object}) \n",
    "\n",
    "#df.columns = df.columns.str.strip() #some column names have some padding\n",
    "#print (len(df))\n",
    "#df.head()"
   ]
  },
  {
   "cell_type": "code",
   "execution_count": null,
   "metadata": {},
   "outputs": [],
   "source": [
    "#grab a random sample from df\n",
    "#subset_of_df = df.sample(n=500)"
   ]
  },
  {
   "cell_type": "code",
   "execution_count": null,
   "metadata": {},
   "outputs": [],
   "source": [
    "#creating a map that's centered to our sample\n",
    "#some_map = folium.Map(location=[subset_of_df['INTPTLAT'].mean(), \n",
    "#                                subset_of_df['INTPTLONG'].mean()], \n",
    "#                                zoom_start=4)\n",
    "\n",
    "#creating a Marker for each point in df_sample.  Each point will get a popup with their zip\n",
    "#for row in subset_of_df.itertuples():\n",
    "#    some_map.add_child(folium.Marker(location=[row.INTPTLAT, row.INTPTLONG],\n",
    "#                                     popup=row.GEOID,row.ALAND))\n",
    "#some_map"
   ]
  },
  {
   "cell_type": "code",
   "execution_count": null,
   "metadata": {},
   "outputs": [],
   "source": [
    "#creating a map that's centered to our sample\n",
    "#some_map = folium.Map(location=[subset_of_df['INTPTLAT'].mean(), \n",
    "#                                subset_of_df['INTPTLONG'].mean()], \n",
    "#                                zoom_start=4)\n",
    "\n",
    "#mc = MarkerCluster()\n",
    "\n",
    "#creating a Marker for each point in df_sample.  Each point will get a popup with their zip\n",
    "#for row in subset_of_df.itertuples():\n",
    "#    mc.add_child(folium.Marker(location=[row.INTPTLAT, row.INTPTLONG],\n",
    "#                    popup=row.GEOID))\n",
    "    \n",
    "#some_map.add_child(mc)\n",
    "#some_map"
   ]
  },
  {
   "cell_type": "code",
   "execution_count": null,
   "metadata": {},
   "outputs": [],
   "source": [
    "#creating a map that's centered to our sample\n",
    "#some_map = folium.Map(location=[subset_of_df['INTPTLAT'].mean(), \n",
    "#                                subset_of_df['INTPTLONG'].mean()], \n",
    "#                                zoom_start=4)\n",
    "\n",
    "#some_map.add_child(FastMarkerCluster(subset_of_df[['INTPTLAT', 'INTPTLONG']].values.tolist()))\n",
    "#some_map"
   ]
  },
  {
   "cell_type": "code",
   "execution_count": null,
   "metadata": {},
   "outputs": [],
   "source": [
    "#creating a map that's centered to our sample\n",
    "#some_map = folium.Map(location=[subset_of_df['INTPTLAT'].mean(), \n",
    "#                                subset_of_df['INTPTLONG'].mean()], \n",
    "#                                zoom_start=4)\n",
    "\n",
    "#callback = ('function (row) {' \n",
    "#                'var circle = L.circle(new L.LatLng(row[0], row[1]), {color: \"red\",  radius: 20000});'\n",
    "#                'return circle};')\n",
    "\n",
    "#some_map.add_child(FastMarkerCluster(subset_of_df[['INTPTLAT', 'INTPTLONG']].values.tolist(), callback=callback))\n",
    "#some_map"
   ]
  },
  {
   "cell_type": "code",
   "execution_count": null,
   "metadata": {},
   "outputs": [],
   "source": [
    "#grab a random sample from df\n",
    "#subset_of_df = df.sample(n=5000)\n",
    "\n",
    "#creating a map that's centered to our sample\n",
    "#some_map = folium.Map(location=[subset_of_df['INTPTLAT'].mean(), \n",
    "#                                subset_of_df['INTPTLONG'].mean()], \n",
    "#                                zoom_start=4)\n",
    "\n",
    "#callback = ('function (row) {' \n",
    "#                'var circle = L.circle(new L.LatLng(row[0], row[1]), {color: \"red\",  radius: 10000});'\n",
    "#                'return circle};')\n",
    "\n",
    "#some_map.add_child(FastMarkerCluster(subset_of_df[['INTPTLAT', 'INTPTLONG']].values.tolist(), callback=callback))\n",
    "#some_map"
   ]
  },
  {
   "cell_type": "code",
   "execution_count": null,
   "metadata": {},
   "outputs": [],
   "source": []
  }
 ],
 "metadata": {
  "kernelspec": {
   "display_name": "Python 3",
   "language": "python",
   "name": "python3"
  },
  "language_info": {
   "codemirror_mode": {
    "name": "ipython",
    "version": 3
   },
   "file_extension": ".py",
   "mimetype": "text/x-python",
   "name": "python",
   "nbconvert_exporter": "python",
   "pygments_lexer": "ipython3",
   "version": "3.7.4"
  }
 },
 "nbformat": 4,
 "nbformat_minor": 4
}
