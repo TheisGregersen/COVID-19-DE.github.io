{
 "cells": [
  {
   "cell_type": "markdown",
   "metadata": {},
   "source": [
    "# Project assignemtn A \n",
    "## start up - descriptive analysis\n",
    "### Mainly using coding from week 3 \n",
    "\n",
    "First we load all the packages we think that we need: "
   ]
  },
  {
   "cell_type": "code",
   "execution_count": 1,
   "metadata": {},
   "outputs": [],
   "source": [
    "import pandas as pd\n",
    "import numpy as np\n",
    "from sklearn.tree import DecisionTreeClassifier # Import Decision Tree Classifier\n",
    "from sklearn.model_selection import train_test_split # Import train_test_split function\n",
    "from sklearn import metrics #Import scikit-learn metrics module for accuracy calculation\n",
    "from sklearn.ensemble import RandomForestClassifier\n",
    "from sklearn.datasets import make_classification\n",
    "from sklearn.metrics import confusion_matrix,classification_report\n",
    "from sklearn.metrics import confusion_matrix, classification_report\n",
    "from sklearn.model_selection import KFold\n",
    "import datetime as dt\n",
    "import warnings\n",
    "from random import sample \n",
    "warnings.filterwarnings('ignore')\n",
    "\n",
    "import random\n",
    "import seaborn as sns\n",
    "import matplotlib.pyplot as plt\n",
    "%matplotlib inline\n"
   ]
  },
  {
   "cell_type": "markdown",
   "metadata": {},
   "source": [
    "Loading the two dataset and getting an overview"
   ]
  },
  {
   "cell_type": "code",
   "execution_count": 2,
   "metadata": {},
   "outputs": [],
   "source": [
    "df = pd.read_csv(\"covid_de.csv\")\n",
    "df_demo = pd.read_csv(\"demographics_de.csv\")\n",
    "df_des = pd.read_excel(\"location.xlsx\")\n",
    "#drop NaN and change to datetime\n",
    "df = df.dropna()\n",
    "df['date'] = pd.to_datetime(df.date)"
   ]
  },
  {
   "cell_type": "code",
   "execution_count": 3,
   "metadata": {},
   "outputs": [],
   "source": [
    "\n",
    "df.date = pd.to_datetime(df[\"date\"], format=\"%Y-%m-%dT%H:%M:%S.%fZ\")\n",
    "df = df.sort_values(by='date')"
   ]
  },
  {
   "cell_type": "code",
   "execution_count": 4,
   "metadata": {},
   "outputs": [],
   "source": [
    "df1 = df.sort_values(by='date')\n",
    "df1 = df1[['date','cases','deaths','recovered']]\n",
    "df1['Total Cases'] = df1['cases'].cumsum()\n",
    "df1['Total Deaths'] = df1['deaths'].cumsum()\n",
    "df1['Total Recovered'] = df1['recovered'].cumsum()\n",
    "df1 = df1.drop(['cases','deaths','recovered'],axis=1)\n",
    "df1 = df1.set_index('date')"
   ]
  },
  {
   "cell_type": "markdown",
   "metadata": {},
   "source": [
    "And rearranging it to remova Nas etc "
   ]
  },
  {
   "cell_type": "code",
   "execution_count": 7,
   "metadata": {},
   "outputs": [
    {
     "data": {
      "image/png": "[encoded data removed]",
      "text/plain": [
       "<Figure size 432x288 with 1 Axes>"
      ]
     },
     "metadata": {
      "needs_background": "light"
     },
     "output_type": "display_data"
    }
   ],
   "source": [
    "# This files creates a pyplot bar graph and shows a tooltip at the middle of a bar when it is hovered.\n",
    "# Licenced under CC0 1.0 Universal Public Domain Dedication\n",
    "# adapted from https://stackoverflow.com/a/47166787/5433628\n",
    "\n",
    "import matplotlib.pyplot as plt\n",
    "\n",
    "# input data\n",
    "x = [2010, 2011, 2012, 2013]\n",
    "y = [13, 17, 42, 4]\n",
    "\n",
    "# create and define plot\n",
    "fig, ax = plt.subplots()\n",
    "graph = plt.bar(x, y)\n",
    "plt.xticks(x)\n",
    "\n",
    "# define the tooltip\n",
    "annot = ax.annotate(\"\", xy=(0,0), xytext=(20,20),textcoords=\"offset points\",\n",
    "                    bbox=dict(boxstyle=\"round\", fc=\"w\"),\n",
    "                    arrowprops=dict(arrowstyle=\"->\"))\n",
    "annot.set_visible(False)\n",
    "\n",
    "def update_annot(artist):\n",
    "    \"\"\" update tooltip when hovering a given plotted objet \"\"\"\n",
    "\n",
    "    # in plt.bar, each artist is a Rectangle – see https://matplotlib.org/api/_as_gen/matplotlib.patches.Rectangle.html\n",
    "    # find the middle of the bar\n",
    "    center_x = artist.get_x() + artist.get_width() / 2\n",
    "    center_y = artist.get_y() + artist.get_height() / 2\n",
    "    annot.xy = (center_x, center_y)\n",
    "    # get the height of the bar as text\n",
    "    text = str(artist.get_height())\n",
    "    annot.set_text(text)\n",
    "    annot.get_bbox_patch().set_alpha(0.4)\n",
    "\n",
    "def hover(event):\n",
    "    \"\"\" update and show a tooltip while hovering an object; hide it otherwise \"\"\"\n",
    "    vis = annot.get_visible()\n",
    "    if event.inaxes == ax:\n",
    "        an_artist_is_hovered = False\n",
    "        for artist in graph:\n",
    "            contains, _ = artist.contains(event)\n",
    "            if contains:\n",
    "                an_artist_is_hovered = True\n",
    "                update_annot(artist)\n",
    "                annot.set_visible(True)\n",
    "                fig.canvas.draw_idle()\n",
    "        if not an_artist_is_hovered:\n",
    "            # one wants to hide the annotation only if no artist in the graph is hovered\n",
    "            annot.set_visible(False)\n",
    "            fig.canvas.draw_idle()\n",
    "\n",
    "# call 'hover' if there is a mouse motion\n",
    "fig.canvas.mpl_connect(\"motion_notify_event\", hover)\n",
    "\n",
    "# time to see our work!\n",
    "plt.show()"
   ]
  },
  {
   "cell_type": "code",
   "execution_count": 6,
   "metadata": {},
   "outputs": [
    {
     "ename": "ModuleNotFoundError",
     "evalue": "No module named 'mplcursors'",
     "output_type": "error",
     "traceback": [
      "\u001b[0;31m---------------------------------------------------------------------------\u001b[0m",
      "\u001b[0;31mModuleNotFoundError\u001b[0m                       Traceback (most recent call last)",
      "\u001b[0;32m<ipython-input-6-e78f7cdb7c0c>\u001b[0m in \u001b[0;36m<module>\u001b[0;34m\u001b[0m\n\u001b[1;32m      1\u001b[0m \u001b[0;32mimport\u001b[0m \u001b[0mmatplotlib\u001b[0m\u001b[0;34m.\u001b[0m\u001b[0mpyplot\u001b[0m \u001b[0;32mas\u001b[0m \u001b[0mplt\u001b[0m\u001b[0;34m\u001b[0m\u001b[0;34m\u001b[0m\u001b[0m\n\u001b[1;32m      2\u001b[0m \u001b[0;32mimport\u001b[0m \u001b[0mnumpy\u001b[0m \u001b[0;32mas\u001b[0m \u001b[0mnp\u001b[0m\u001b[0;34m\u001b[0m\u001b[0;34m\u001b[0m\u001b[0m\n\u001b[0;32m----> 3\u001b[0;31m \u001b[0;32mimport\u001b[0m \u001b[0mmplcursors\u001b[0m\u001b[0;34m\u001b[0m\u001b[0;34m\u001b[0m\u001b[0m\n\u001b[0m\u001b[1;32m      4\u001b[0m \u001b[0;34m\u001b[0m\u001b[0m\n\u001b[1;32m      5\u001b[0m \u001b[0mdata\u001b[0m \u001b[0;34m=\u001b[0m \u001b[0mnp\u001b[0m\u001b[0;34m.\u001b[0m\u001b[0mouter\u001b[0m\u001b[0;34m(\u001b[0m\u001b[0mrange\u001b[0m\u001b[0;34m(\u001b[0m\u001b[0;36m10\u001b[0m\u001b[0;34m)\u001b[0m\u001b[0;34m,\u001b[0m \u001b[0mrange\u001b[0m\u001b[0;34m(\u001b[0m\u001b[0;36m1\u001b[0m\u001b[0;34m,\u001b[0m \u001b[0;36m5\u001b[0m\u001b[0;34m)\u001b[0m\u001b[0;34m)\u001b[0m\u001b[0;34m\u001b[0m\u001b[0;34m\u001b[0m\u001b[0m\n",
      "\u001b[0;31mModuleNotFoundError\u001b[0m: No module named 'mplcursors'"
     ]
    }
   ],
   "source": [
    "import matplotlib.pyplot as plt\n",
    "import numpy as np\n",
    "import mplcursors\n",
    "\n",
    "data = np.outer(range(10), range(1, 5))\n",
    "fig, ax = plt.subplots()\n",
    "lines = ax.plot(data)\n",
    "ax.set_title(\"Click somewhere on a line.\\nRight-click to deselect.\\n\"\n",
    "\"Annotations can be dragged.\")\n",
    "mplcursors.cursor(hover=True) # or just mplcursors.cursor()\n",
    "plt.show()"
   ]
  },
  {
   "cell_type": "code",
   "execution_count": 25,
   "metadata": {},
   "outputs": [
    {
     "data": {
      "image/png": "[encoded data removed]",
      "text/plain": [
       "<Figure size 1080x576 with 1 Axes>"
      ]
     },
     "metadata": {
      "needs_background": "light"
     },
     "output_type": "display_data"
    }
   ],
   "source": [
    "fig, ax = plt.subplots(figsize=(15, 8))\n",
    "\n",
    "plt.plot(df1['Total Cases'])\n",
    "plt.plot(df1['Total Deaths'])\n",
    "plt.plot(df1['Total Recovered'])\n",
    "plt.axvline(pd.Timestamp('2020-03-13'),color='r')\n",
    "plt.axvline(pd.Timestamp('2020-03-22'),color='r')\n",
    "plt.axvline(pd.Timestamp('2020-04-15'),color='g')\n",
    "# beautify the x-labels\n",
    "plt.gcf().autofmt_xdate()\n",
    "mplcursors.cursor(hover=True)\n",
    "plt.show()\n",
    "\n",
    "\n",
    "# x coordinates for the lines\n",
    "\n"
   ]
  },
  {
   "cell_type": "code",
   "execution_count": 21,
   "metadata": {},
   "outputs": [
    {
     "data": {
      "text/html": [
       "        <script type=\"text/javascript\">\n",
       "        window.PlotlyConfig = {MathJaxConfig: 'local'};\n",
       "        if (window.MathJax) {MathJax.Hub.Config({SVG: {font: \"STIX-Web\"}});}\n",
       "        if (typeof require !== 'undefined') {\n",
       "        require.undef(\"plotly\");\n",
       "        requirejs.config({\n",
       "            paths: {\n",
       "                'plotly': ['https://cdn.plot.ly/plotly-latest.min']\n",
       "            }\n",
       "        });\n",
       "        require(['plotly'], function(Plotly) {\n",
       "            window._Plotly = Plotly;\n",
       "        });\n",
       "        }\n",
       "        </script>\n",
       "        "
      ]
     },
     "metadata": {},
     "output_type": "display_data"
    },
    {
     "data": {
      "application/vnd.jupyter.widget-view+json": {
       "model_id": "c9d49a40b0da44f78f9d682f5ddd7277",
       "version_major": 2,
       "version_minor": 0
      },
      "text/plain": [
       "interactive(children=(Dropdown(description='Value', options=('Total', 'By day'), value='Total'), Output()), _d…"
      ]
     },
     "metadata": {},
     "output_type": "display_data"
    }
   ],
   "source": [
    "# from _future_ import print_function\n",
    "from ipywidgets import interact, interactive, fixed, interact_manual\n",
    "import ipywidgets as widgets\n",
    "import cufflinks as cf\n",
    "import plotly.offline\n",
    "cf.go_offline()\n",
    "cf.set_config_file(offline=False, world_readable=True)\n",
    "\n",
    "\n",
    "def niceplot(Value):\n",
    "    \n",
    "    if Value == 'Total':\n",
    "        df1 = df.sort_values(by='date')\n",
    "        df1 = df1[['date','cases','deaths','recovered']]\n",
    "        df1['Total Cases'] = df1['cases'].cumsum()\n",
    "        df1['Total Deaths'] = df1['deaths'].cumsum()\n",
    "        df1['Total Recovered'] = df1['recovered'].cumsum()\n",
    "        df1 = df1.drop(['cases','deaths','recovered'],axis=1)\n",
    "        df1 = df1.set_index('date')\n",
    "        df1.iplot(xTitle=\"Date\",\n",
    "                    yTitle=\"Occurrences\", title=\"Corona Development in Gernmany by {}\".format(Value))\n",
    "    if Value == 'By day':\n",
    "        df1 = df.sort_values(by='date')\n",
    "        df1 = df1[['date','cases','deaths','recovered']]\n",
    "        df1 = df1.set_index('date')\n",
    "        df1.columns = ['Cases','Deaths','Recovered']\n",
    "        df1.iplot(xTitle=\"Date\",\n",
    "                    yTitle=\"Occurrences\", title=\"Corona Development in Germany by {}\".format(Value), kind='bar')\n",
    "\n",
    "\n",
    "interact(niceplot,Value = ['Total','By day']);"
   ]
  },
  {
   "cell_type": "code",
   "execution_count": 5,
   "metadata": {},
   "outputs": [],
   "source": [
    "#Changing gender in demografic to have same values as covid data set. \n",
    "df_demo['gender'] = df_demo['gender'].map({'female': 'F','male':'M'})"
   ]
  },
  {
   "cell_type": "code",
   "execution_count": 6,
   "metadata": {},
   "outputs": [],
   "source": [
    "#Merging the two dataset on state, age_group and gender. \n",
    "merged = pd.merge(df_covid,df_demo,how='inner', on=[\"state\",\"age_group\",\"gender\"])\n",
    "#And merging latitude and longtitude on the full dataset\n",
    "fulldata = pd.merge(merged,df_des,how='inner',on=['county'])"
   ]
  },
  {
   "cell_type": "markdown",
   "metadata": {},
   "source": [
    "Now we want to describe the data. We make a statistic overview: First of all the nummeric values and after of all the categorical values:"
   ]
  },
  {
   "cell_type": "code",
   "execution_count": 7,
   "metadata": {},
   "outputs": [],
   "source": [
    "df.to_excel(r'C:\\Users\\katja\\Documents\\DTU\\8. semester\\Social Data analysis and visualization\\projekt\\samletdata.xlsx', index = False)\n"
   ]
  },
  {
   "cell_type": "code",
   "execution_count": 8,
   "metadata": {},
   "outputs": [
    {
     "data": {
      "text/html": [
       "<div>\n",
       "<style scoped>\n",
       "    .dataframe tbody tr th:only-of-type {\n",
       "        vertical-align: middle;\n",
       "    }\n",
       "\n",
       "    .dataframe tbody tr th {\n",
       "        vertical-align: top;\n",
       "    }\n",
       "\n",
       "    .dataframe thead th {\n",
       "        text-align: right;\n",
       "    }\n",
       "</style>\n",
       "<table border=\"1\" class=\"dataframe\">\n",
       "  <thead>\n",
       "    <tr style=\"text-align: right;\">\n",
       "      <th></th>\n",
       "      <th>cases</th>\n",
       "      <th>deaths</th>\n",
       "      <th>recovered</th>\n",
       "      <th>casess</th>\n",
       "      <th>deathss</th>\n",
       "    </tr>\n",
       "  </thead>\n",
       "  <tbody>\n",
       "    <tr>\n",
       "      <th>count</th>\n",
       "      <td>47556.000000</td>\n",
       "      <td>47556.000000</td>\n",
       "      <td>47556.000000</td>\n",
       "      <td>47556.000000</td>\n",
       "      <td>47556.000000</td>\n",
       "    </tr>\n",
       "    <tr>\n",
       "      <th>mean</th>\n",
       "      <td>2.604214</td>\n",
       "      <td>0.062095</td>\n",
       "      <td>1.427496</td>\n",
       "      <td>65752.951510</td>\n",
       "      <td>1665.763689</td>\n",
       "    </tr>\n",
       "    <tr>\n",
       "      <th>std</th>\n",
       "      <td>3.147021</td>\n",
       "      <td>0.291816</td>\n",
       "      <td>2.121080</td>\n",
       "      <td>36262.308798</td>\n",
       "      <td>846.762866</td>\n",
       "    </tr>\n",
       "    <tr>\n",
       "      <th>min</th>\n",
       "      <td>0.000000</td>\n",
       "      <td>0.000000</td>\n",
       "      <td>-1.000000</td>\n",
       "      <td>1.000000</td>\n",
       "      <td>0.000000</td>\n",
       "    </tr>\n",
       "    <tr>\n",
       "      <th>25%</th>\n",
       "      <td>1.000000</td>\n",
       "      <td>0.000000</td>\n",
       "      <td>0.000000</td>\n",
       "      <td>33974.750000</td>\n",
       "      <td>949.000000</td>\n",
       "    </tr>\n",
       "    <tr>\n",
       "      <th>50%</th>\n",
       "      <td>2.000000</td>\n",
       "      <td>0.000000</td>\n",
       "      <td>1.000000</td>\n",
       "      <td>68939.500000</td>\n",
       "      <td>1748.000000</td>\n",
       "    </tr>\n",
       "    <tr>\n",
       "      <th>75%</th>\n",
       "      <td>3.000000</td>\n",
       "      <td>0.000000</td>\n",
       "      <td>2.000000</td>\n",
       "      <td>97734.750000</td>\n",
       "      <td>2422.000000</td>\n",
       "    </tr>\n",
       "    <tr>\n",
       "      <th>max</th>\n",
       "      <td>69.000000</td>\n",
       "      <td>8.000000</td>\n",
       "      <td>41.000000</td>\n",
       "      <td>123846.000000</td>\n",
       "      <td>2953.000000</td>\n",
       "    </tr>\n",
       "  </tbody>\n",
       "</table>\n",
       "</div>"
      ],
      "text/plain": [
       "              cases        deaths     recovered         casess       deathss\n",
       "count  47556.000000  47556.000000  47556.000000   47556.000000  47556.000000\n",
       "mean       2.604214      0.062095      1.427496   65752.951510   1665.763689\n",
       "std        3.147021      0.291816      2.121080   36262.308798    846.762866\n",
       "min        0.000000      0.000000     -1.000000       1.000000      0.000000\n",
       "25%        1.000000      0.000000      0.000000   33974.750000    949.000000\n",
       "50%        2.000000      0.000000      1.000000   68939.500000   1748.000000\n",
       "75%        3.000000      0.000000      2.000000   97734.750000   2422.000000\n",
       "max       69.000000      8.000000     41.000000  123846.000000   2953.000000"
      ]
     },
     "execution_count": 8,
     "metadata": {},
     "output_type": "execute_result"
    }
   ],
   "source": [
    "df_covid.describe()"
   ]
  },
  {
   "cell_type": "code",
   "execution_count": 9,
   "metadata": {},
   "outputs": [
    {
     "data": {
      "text/html": [
       "<div>\n",
       "<style scoped>\n",
       "    .dataframe tbody tr th:only-of-type {\n",
       "        vertical-align: middle;\n",
       "    }\n",
       "\n",
       "    .dataframe tbody tr th {\n",
       "        vertical-align: top;\n",
       "    }\n",
       "\n",
       "    .dataframe thead th {\n",
       "        text-align: right;\n",
       "    }\n",
       "</style>\n",
       "<table border=\"1\" class=\"dataframe\">\n",
       "  <thead>\n",
       "    <tr style=\"text-align: right;\">\n",
       "      <th></th>\n",
       "      <th>state</th>\n",
       "      <th>county</th>\n",
       "      <th>age_group</th>\n",
       "      <th>gender</th>\n",
       "    </tr>\n",
       "  </thead>\n",
       "  <tbody>\n",
       "    <tr>\n",
       "      <th>count</th>\n",
       "      <td>47556</td>\n",
       "      <td>47556</td>\n",
       "      <td>47556</td>\n",
       "      <td>47556</td>\n",
       "    </tr>\n",
       "    <tr>\n",
       "      <th>unique</th>\n",
       "      <td>16</td>\n",
       "      <td>413</td>\n",
       "      <td>6</td>\n",
       "      <td>2</td>\n",
       "    </tr>\n",
       "    <tr>\n",
       "      <th>top</th>\n",
       "      <td>Bayern</td>\n",
       "      <td>SK Muenchen</td>\n",
       "      <td>35-59</td>\n",
       "      <td>M</td>\n",
       "    </tr>\n",
       "    <tr>\n",
       "      <th>freq</th>\n",
       "      <td>12313</td>\n",
       "      <td>365</td>\n",
       "      <td>16195</td>\n",
       "      <td>23941</td>\n",
       "    </tr>\n",
       "  </tbody>\n",
       "</table>\n",
       "</div>"
      ],
      "text/plain": [
       "         state       county age_group gender\n",
       "count    47556        47556     47556  47556\n",
       "unique      16          413         6      2\n",
       "top     Bayern  SK Muenchen     35-59      M\n",
       "freq     12313          365     16195  23941"
      ]
     },
     "execution_count": 9,
     "metadata": {},
     "output_type": "execute_result"
    }
   ],
   "source": [
    "df_covid.describe(include='object')"
   ]
  },
  {
   "cell_type": "markdown",
   "metadata": {},
   "source": [
    "# Jitterplot\n",
    "\n"
   ]
  },
  {
   "cell_type": "code",
   "execution_count": 10,
   "metadata": {},
   "outputs": [
    {
     "data": {
      "image/png": "[encoded data removed]",
      "text/plain": [
       "<Figure size 432x288 with 1 Axes>"
      ]
     },
     "metadata": {
      "needs_background": "light"
     },
     "output_type": "display_data"
    }
   ],
   "source": [
    "\n",
    "#Jitterplot of number of cases, hence x is cases \n",
    "x = df_covid['cases']\n",
    "\n",
    "#Så plottes jitterplottet: \n",
    "sns.stripplot(sorted(x), jitter=True)\n",
    "plt.xticks(rotation='90')\n",
    "# wea.Time\n",
    "plt.show()\n"
   ]
  },
  {
   "cell_type": "code",
   "execution_count": 11,
   "metadata": {},
   "outputs": [
    {
     "data": {
      "image/png": "[encoded data removed]",
      "text/plain": [
       "<Figure size 432x288 with 1 Axes>"
      ]
     },
     "metadata": {
      "needs_background": "light"
     },
     "output_type": "display_data"
    }
   ],
   "source": [
    "\n",
    "#Jitterplot of number age groups. Before this can heppen, a convertion of the groups into numbers is needed. \n",
    "#I dont think a jitterplot is cool here.. \n",
    "#But maybe we can use the code for samething later... \n",
    "\n",
    "df_covid.age_group = pd.Categorical(df_covid.age_group)\n",
    "df_covid['code'] = df_covid.age_group.cat.codes\n",
    "\n",
    "x = df_covid['code']\n",
    "\n",
    "#Så plottes jitterplottet: \n",
    "sns.stripplot(sorted(x), jitter=True)\n",
    "plt.xticks(rotation='90')\n",
    "# wea.Time\n",
    "plt.show()\n"
   ]
  },
  {
   "cell_type": "markdown",
   "metadata": {},
   "source": [
    "# Now its time for a histogram plot \n",
    "\n",
    "We need to categorize the different age groups since those are the ones we want to plot on top of each other"
   ]
  },
  {
   "cell_type": "code",
   "execution_count": 12,
   "metadata": {},
   "outputs": [],
   "source": [
    "#Categorize the histograms that we want. \n",
    "df_1 = df_covid[df_covid['age_group'].str.contains(\"00-04\")] \n",
    "df_2 = df_covid[df_covid['age_group'].str.contains(\"05-14\")]\n",
    "df_3 = df_covid[df_covid['age_group'].str.contains(\"15-34\")]\n",
    "df_4 = df_covid[df_covid['age_group'].str.contains(\"35-59\")]\n",
    "df_5 = df_covid[df_covid['age_group'].str.contains(\"60-79\")]\n",
    "df_6 = df_covid[df_covid['age_group'].str.contains(\"80-99\")]"
   ]
  },
  {
   "cell_type": "code",
   "execution_count": 13,
   "metadata": {},
   "outputs": [
    {
     "data": {
      "image/png": "[encoded data removed]",
      "text/plain": [
       "<Figure size 1224x720 with 1 Axes>"
      ]
     },
     "metadata": {
      "needs_background": "light"
     },
     "output_type": "display_data"
    }
   ],
   "source": [
    "from matplotlib import pyplot\n",
    "\n",
    "#And now I plot the histograms on top of each other. Alpha is the see through of the color. \n",
    "plt.figure(figsize=(17, 10)) # Set the size of the figure \n",
    "plt.hist(df_1.date, bins=50,alpha=0.4, label='00-04')\n",
    "pyplot.hist(df_2.date, bins=50, alpha=0.5, label='05-14')\n",
    "plt.hist(df_3.date, bins=50, alpha=0.1, label='15-34')\n",
    "plt.hist(df_4.date, bins=50, alpha=0.2, label='35-59')\n",
    "plt.hist(df_5.date, bins=50, alpha=0.1, label='60-79')\n",
    "plt.hist(df_6.date, bins=50, alpha=0.4, label='80-')\n",
    "pyplot.legend(loc='upper left')\n",
    "pyplot.show()"
   ]
  },
  {
   "cell_type": "code",
   "execution_count": 14,
   "metadata": {},
   "outputs": [
    {
     "data": {
      "text/plain": [
       "[<matplotlib.lines.Line2D at 0x2c10459bda0>]"
      ]
     },
     "execution_count": 14,
     "metadata": {},
     "output_type": "execute_result"
    },
    {
     "data": {
      "image/png": "[encoded data removed]",
      "text/plain": [
       "<Figure size 432x288 with 1 Axes>"
      ]
     },
     "metadata": {
      "needs_background": "light"
     },
     "output_type": "display_data"
    }
   ],
   "source": [
    "from matplotlib import pyplot\n",
    "\n",
    "# We start by making a curve: \n",
    "\n",
    "# df_covid['age_group'].count()\n",
    "y=df_covid.groupby('age_group').count()\n",
    "plt.plot(y.code)\n"
   ]
  },
  {
   "cell_type": "markdown",
   "metadata": {},
   "source": [
    "# Location\n",
    "## First a histogram without relative to population"
   ]
  },
  {
   "cell_type": "code",
   "execution_count": 15,
   "metadata": {},
   "outputs": [
    {
     "data": {
      "text/plain": [
       "Text(0, 0.5, 'Frequency')"
      ]
     },
     "execution_count": 15,
     "metadata": {},
     "output_type": "execute_result"
    },
    {
     "data": {
      "image/png": "[encoded data removed]",
      "text/plain": [
       "<Figure size 504x288 with 1 Axes>"
      ]
     },
     "metadata": {
      "needs_background": "light"
     },
     "output_type": "display_data"
    }
   ],
   "source": [
    "#We set the state as x axis and count the number of rows for each state. \n",
    "ax = df['state'].value_counts().plot(kind='barh',\n",
    "                                    figsize=(7,4),\n",
    "                                    title=\"Number of cases in each state\")\n",
    "ax.set_xlabel(\"State\")\n",
    "ax.set_ylabel(\"Frequency\")"
   ]
  },
  {
   "cell_type": "markdown",
   "metadata": {},
   "source": [
    "# Location \n",
    "## Now inclusive population \n",
    "This means that we have to use the merged dataset to be able to see how many people in the specific area.\n",
    "We have to make a new dataset of our df_covid because we want a groupby dataset by state, gender and age. Then we can merge this with the demografic datset. "
   ]
  },
  {
   "cell_type": "code",
   "execution_count": 26,
   "metadata": {},
   "outputs": [
    {
     "data": {
      "text/html": [
       "<div>\n",
       "<style scoped>\n",
       "    .dataframe tbody tr th:only-of-type {\n",
       "        vertical-align: middle;\n",
       "    }\n",
       "\n",
       "    .dataframe tbody tr th {\n",
       "        vertical-align: top;\n",
       "    }\n",
       "\n",
       "    .dataframe thead th {\n",
       "        text-align: right;\n",
       "    }\n",
       "</style>\n",
       "<table border=\"1\" class=\"dataframe\">\n",
       "  <thead>\n",
       "    <tr style=\"text-align: right;\">\n",
       "      <th></th>\n",
       "      <th></th>\n",
       "      <th></th>\n",
       "      <th>cases</th>\n",
       "    </tr>\n",
       "    <tr>\n",
       "      <th>state</th>\n",
       "      <th>age_group</th>\n",
       "      <th>gender</th>\n",
       "      <th></th>\n",
       "    </tr>\n",
       "  </thead>\n",
       "  <tbody>\n",
       "    <tr>\n",
       "      <th rowspan=\"5\" valign=\"top\">Baden-Wuerttemberg</th>\n",
       "      <th rowspan=\"2\" valign=\"top\">00-04</th>\n",
       "      <th>F</th>\n",
       "      <td>73</td>\n",
       "    </tr>\n",
       "    <tr>\n",
       "      <th>M</th>\n",
       "      <td>73</td>\n",
       "    </tr>\n",
       "    <tr>\n",
       "      <th rowspan=\"2\" valign=\"top\">05-14</th>\n",
       "      <th>F</th>\n",
       "      <td>161</td>\n",
       "    </tr>\n",
       "    <tr>\n",
       "      <th>M</th>\n",
       "      <td>181</td>\n",
       "    </tr>\n",
       "    <tr>\n",
       "      <th>15-34</th>\n",
       "      <th>F</th>\n",
       "      <td>990</td>\n",
       "    </tr>\n",
       "    <tr>\n",
       "      <th>...</th>\n",
       "      <th>...</th>\n",
       "      <th>...</th>\n",
       "      <td>...</td>\n",
       "    </tr>\n",
       "    <tr>\n",
       "      <th rowspan=\"5\" valign=\"top\">Thueringen</th>\n",
       "      <th>35-59</th>\n",
       "      <th>M</th>\n",
       "      <td>208</td>\n",
       "    </tr>\n",
       "    <tr>\n",
       "      <th rowspan=\"2\" valign=\"top\">60-79</th>\n",
       "      <th>F</th>\n",
       "      <td>115</td>\n",
       "    </tr>\n",
       "    <tr>\n",
       "      <th>M</th>\n",
       "      <td>127</td>\n",
       "    </tr>\n",
       "    <tr>\n",
       "      <th rowspan=\"2\" valign=\"top\">80-99</th>\n",
       "      <th>F</th>\n",
       "      <td>49</td>\n",
       "    </tr>\n",
       "    <tr>\n",
       "      <th>M</th>\n",
       "      <td>53</td>\n",
       "    </tr>\n",
       "  </tbody>\n",
       "</table>\n",
       "<p>192 rows × 1 columns</p>\n",
       "</div>"
      ],
      "text/plain": [
       "                                     cases\n",
       "state              age_group gender       \n",
       "Baden-Wuerttemberg 00-04     F          73\n",
       "                             M          73\n",
       "                   05-14     F         161\n",
       "                             M         181\n",
       "                   15-34     F         990\n",
       "...                                    ...\n",
       "Thueringen         35-59     M         208\n",
       "                   60-79     F         115\n",
       "                             M         127\n",
       "                   80-99     F          49\n",
       "                             M          53\n",
       "\n",
       "[192 rows x 1 columns]"
      ]
     },
     "execution_count": 26,
     "metadata": {},
     "output_type": "execute_result"
    }
   ],
   "source": [
    "# We start by grouping the merged dataset on state, age and gender and the aggregate the number of cases by its size.\n",
    "df1 = merged.groupby(['state','age_group','gender']).agg({'cases':'size'})\n",
    "#The merged groupby data has to be a dataframe to continue: \n",
    "df2= pd.DataFrame(df1)\n"
   ]
  },
  {
   "cell_type": "code",
   "execution_count": 17,
   "metadata": {},
   "outputs": [],
   "source": [
    "#Now merging the two new dataset on state, age_group and gender. \n",
    "merged2 = pd.merge(df2,df_demo,how='inner', on=[\"state\",\"age_group\",\"gender\"])"
   ]
  },
  {
   "cell_type": "code",
   "execution_count": 18,
   "metadata": {},
   "outputs": [],
   "source": [
    "#Now a new column can be added, called relative-cases. Here the number of cases is divided with the population. \n",
    "#This has to be multiplied with 100.000 since you meassure it by 100.000 inbyggere to compare cases. \n",
    "merged2['relative_cases_by_100.000'] = merged2['cases'].div(merged2['population'])*100000"
   ]
  },
  {
   "cell_type": "code",
   "execution_count": 19,
   "metadata": {},
   "outputs": [
    {
     "data": {
      "text/html": [
       "<div>\n",
       "<style scoped>\n",
       "    .dataframe tbody tr th:only-of-type {\n",
       "        vertical-align: middle;\n",
       "    }\n",
       "\n",
       "    .dataframe tbody tr th {\n",
       "        vertical-align: top;\n",
       "    }\n",
       "\n",
       "    .dataframe thead th {\n",
       "        text-align: right;\n",
       "    }\n",
       "</style>\n",
       "<table border=\"1\" class=\"dataframe\">\n",
       "  <thead>\n",
       "    <tr style=\"text-align: right;\">\n",
       "      <th></th>\n",
       "      <th>state</th>\n",
       "      <th>cases</th>\n",
       "      <th>population</th>\n",
       "      <th>relative_cases_by_100.000</th>\n",
       "    </tr>\n",
       "  </thead>\n",
       "  <tbody>\n",
       "    <tr>\n",
       "      <th>1</th>\n",
       "      <td>Bayern</td>\n",
       "      <td>12313</td>\n",
       "      <td>13076721</td>\n",
       "      <td>1194.508245</td>\n",
       "    </tr>\n",
       "    <tr>\n",
       "      <th>0</th>\n",
       "      <td>Baden-Wuerttemberg</td>\n",
       "      <td>7842</td>\n",
       "      <td>11069533</td>\n",
       "      <td>900.880314</td>\n",
       "    </tr>\n",
       "    <tr>\n",
       "      <th>11</th>\n",
       "      <td>Saarland</td>\n",
       "      <td>780</td>\n",
       "      <td>990509</td>\n",
       "      <td>891.915390</td>\n",
       "    </tr>\n",
       "    <tr>\n",
       "      <th>10</th>\n",
       "      <td>Rheinland-Pfalz</td>\n",
       "      <td>2896</td>\n",
       "      <td>4084844</td>\n",
       "      <td>736.821317</td>\n",
       "    </tr>\n",
       "    <tr>\n",
       "      <th>2</th>\n",
       "      <td>Berlin</td>\n",
       "      <td>1870</td>\n",
       "      <td>3644826</td>\n",
       "      <td>608.641651</td>\n",
       "    </tr>\n",
       "    <tr>\n",
       "      <th>9</th>\n",
       "      <td>Nordrhein-Westfalen</td>\n",
       "      <td>8310</td>\n",
       "      <td>17932651</td>\n",
       "      <td>559.933197</td>\n",
       "    </tr>\n",
       "    <tr>\n",
       "      <th>15</th>\n",
       "      <td>Thueringen</td>\n",
       "      <td>1041</td>\n",
       "      <td>2143145</td>\n",
       "      <td>510.864821</td>\n",
       "    </tr>\n",
       "    <tr>\n",
       "      <th>8</th>\n",
       "      <td>Niedersachsen</td>\n",
       "      <td>3713</td>\n",
       "      <td>7982448</td>\n",
       "      <td>510.481757</td>\n",
       "    </tr>\n",
       "    <tr>\n",
       "      <th>6</th>\n",
       "      <td>Hessen</td>\n",
       "      <td>2886</td>\n",
       "      <td>6265809</td>\n",
       "      <td>509.585881</td>\n",
       "    </tr>\n",
       "    <tr>\n",
       "      <th>14</th>\n",
       "      <td>Schleswig-Holstein</td>\n",
       "      <td>1277</td>\n",
       "      <td>2896712</td>\n",
       "      <td>467.174933</td>\n",
       "    </tr>\n",
       "    <tr>\n",
       "      <th>3</th>\n",
       "      <td>Brandenburg</td>\n",
       "      <td>1117</td>\n",
       "      <td>2511917</td>\n",
       "      <td>463.555289</td>\n",
       "    </tr>\n",
       "    <tr>\n",
       "      <th>12</th>\n",
       "      <td>Sachsen</td>\n",
       "      <td>1691</td>\n",
       "      <td>4077937</td>\n",
       "      <td>458.206942</td>\n",
       "    </tr>\n",
       "    <tr>\n",
       "      <th>13</th>\n",
       "      <td>Sachsen-Anhalt</td>\n",
       "      <td>825</td>\n",
       "      <td>2208321</td>\n",
       "      <td>385.223173</td>\n",
       "    </tr>\n",
       "    <tr>\n",
       "      <th>5</th>\n",
       "      <td>Hamburg</td>\n",
       "      <td>352</td>\n",
       "      <td>1841179</td>\n",
       "      <td>319.811024</td>\n",
       "    </tr>\n",
       "    <tr>\n",
       "      <th>4</th>\n",
       "      <td>Bremen</td>\n",
       "      <td>196</td>\n",
       "      <td>682986</td>\n",
       "      <td>318.446838</td>\n",
       "    </tr>\n",
       "    <tr>\n",
       "      <th>7</th>\n",
       "      <td>Mecklenburg-Vorpommern</td>\n",
       "      <td>447</td>\n",
       "      <td>1609675</td>\n",
       "      <td>287.032945</td>\n",
       "    </tr>\n",
       "  </tbody>\n",
       "</table>\n",
       "</div>"
      ],
      "text/plain": [
       "                     state  cases  population  relative_cases_by_100.000\n",
       "1                   Bayern  12313    13076721                1194.508245\n",
       "0       Baden-Wuerttemberg   7842    11069533                 900.880314\n",
       "11                Saarland    780      990509                 891.915390\n",
       "10         Rheinland-Pfalz   2896     4084844                 736.821317\n",
       "2                   Berlin   1870     3644826                 608.641651\n",
       "9      Nordrhein-Westfalen   8310    17932651                 559.933197\n",
       "15              Thueringen   1041     2143145                 510.864821\n",
       "8            Niedersachsen   3713     7982448                 510.481757\n",
       "6                   Hessen   2886     6265809                 509.585881\n",
       "14      Schleswig-Holstein   1277     2896712                 467.174933\n",
       "3              Brandenburg   1117     2511917                 463.555289\n",
       "12                 Sachsen   1691     4077937                 458.206942\n",
       "13          Sachsen-Anhalt    825     2208321                 385.223173\n",
       "5                  Hamburg    352     1841179                 319.811024\n",
       "4                   Bremen    196      682986                 318.446838\n",
       "7   Mecklenburg-Vorpommern    447     1609675                 287.032945"
      ]
     },
     "execution_count": 19,
     "metadata": {},
     "output_type": "execute_result"
    }
   ],
   "source": [
    "#Now the merged2 dataset is grouped by state, and the relative_cases are now only on state and no longer on age and gender. \n",
    "relative=merged2.groupby('state',as_index=False).sum().sort_values(by='relative_cases_by_100.000',ascending=False)\n",
    "relative=pd.DataFrame(relative)\n",
    "relative"
   ]
  },
  {
   "cell_type": "code",
   "execution_count": 20,
   "metadata": {},
   "outputs": [
    {
     "data": {
      "image/png": "[encoded data removed]",
      "text/plain": [
       "<Figure size 504x288 with 1 Axes>"
      ]
     },
     "metadata": {
      "needs_background": "light"
     },
     "output_type": "display_data"
    }
   ],
   "source": [
    "# fig, axes = plt.subplots(nrows=1, ncols=2, figsize=(5, 3))\n",
    "# axes[0].plot(ax)\n",
    "# axes[1].plot(ax2)\n",
    "# fig.tight_layout()\n",
    "\n",
    "#Finaly it is possible to plot the relative cases on a histogram\n",
    "ax2 = relative['relative_cases_by_100.000'].plot(kind='bar',\n",
    "                                    figsize=(7,4),\n",
    "                                    title=\"Cases per 100.000 indbyggere\")\n",
    "ax.set_xlabel(\"State\")\n",
    "ax.set_ylabel(\"Frequency\")\n",
    "\n",
    "plt.show()"
   ]
  },
  {
   "cell_type": "markdown",
   "metadata": {},
   "source": [
    "As we see on the histogram, there are difference betwween the relative cases and the number of cases in each state. This is due to the fact that there are a higher population density in some areas, which makes it more likely to be sick. "
   ]
  },
  {
   "cell_type": "code",
   "execution_count": null,
   "metadata": {},
   "outputs": [],
   "source": [
    "state=pd.Series(data_focuscrime.Category).value_counts()\n",
    "crime.plot('bar',color='b')"
   ]
  },
  {
   "cell_type": "code",
   "execution_count": 23,
   "metadata": {},
   "outputs": [],
   "source": [
    "from sklearn import preprocessing\n",
    "import numpy as np\n",
    "#First, we need to calculate the relative probabilities of seeing each type of crime in the dataset as a whole. \n",
    "#Let's call it P(crime). IT is the same as calculating the norm of the data. \n",
    "#We make a function \n",
    "def norm(state):\n",
    "    return ((state)-min(state))/(max(state)-min(state))\n",
    "\n",
    "# P_crime=preprocessing.scale(crime)\n",
    "\n",
    "\n",
    "# pd.Series([crime_district]).array\n",
    "# norm_crime= preprocessing.scale(crime_district[0])\n",
    "# crime_district.array"
   ]
  },
  {
   "cell_type": "code",
   "execution_count": 25,
   "metadata": {},
   "outputs": [
    {
     "ename": "NameError",
     "evalue": "name 'state' is not defined",
     "output_type": "error",
     "traceback": [
      "\u001b[1;31m---------------------------------------------------------------------------\u001b[0m",
      "\u001b[1;31mNameError\u001b[0m                                 Traceback (most recent call last)",
      "\u001b[1;32m<ipython-input-25-0954b1c1bd74>\u001b[0m in \u001b[0;36m<module>\u001b[1;34m\u001b[0m\n\u001b[1;32m----> 1\u001b[1;33m \u001b[0mpr_crime\u001b[0m\u001b[1;33m=\u001b[0m\u001b[0mnorm\u001b[0m\u001b[1;33m(\u001b[0m\u001b[0mstate\u001b[0m\u001b[1;33m)\u001b[0m\u001b[1;33m\u001b[0m\u001b[1;33m\u001b[0m\u001b[0m\n\u001b[0m",
      "\u001b[1;31mNameError\u001b[0m: name 'state' is not defined"
     ]
    }
   ],
   "source": [
    "pr_crime=norm(state)"
   ]
  },
  {
   "cell_type": "code",
   "execution_count": null,
   "metadata": {},
   "outputs": [],
   "source": []
  }
 ],
 "metadata": {
  "kernelspec": {
   "display_name": "Python 3",
   "language": "python",
   "name": "python3"
  },
  "language_info": {
   "codemirror_mode": {
    "name": "ipython",
    "version": 3
   },
   "file_extension": ".py",
   "mimetype": "text/x-python",
   "name": "python",
   "nbconvert_exporter": "python",
   "pygments_lexer": "ipython3",
   "version": "3.7.4"
  }
 },
 "nbformat": 4,
 "nbformat_minor": 4
}
